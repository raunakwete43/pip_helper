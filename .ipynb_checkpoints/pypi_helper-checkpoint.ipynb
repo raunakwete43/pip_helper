{
 "cells": [
  {
   "cell_type": "code",
   "execution_count": 1,
   "id": "4d1da3e3-fb4b-4069-a778-a14eaafae433",
   "metadata": {},
   "outputs": [],
   "source": [
    "import requests\n",
    "from bs4 import BeautifulSoup\n",
    "from icecream import ic"
   ]
  },
  {
   "cell_type": "code",
   "execution_count": 2,
   "id": "a98ad434-15e9-4f6b-8cff-433916631e60",
   "metadata": {
    "scrolled": true
   },
   "outputs": [],
   "source": [
    "URL = \"https://pypi.org/search/?q=icecream&o=\"\n",
    "request = requests.get(url=URL)"
   ]
  },
  {
   "cell_type": "code",
   "execution_count": null,
   "id": "8a024514-bd8e-4af0-962f-b24c74cd9e3d",
   "metadata": {},
   "outputs": [],
   "source": [
    "print"
   ]
  }
 ],
 "metadata": {
  "kernelspec": {
   "display_name": "Python 3 (ipykernel)",
   "language": "python",
   "name": "python3"
  },
  "language_info": {
   "codemirror_mode": {
    "name": "ipython",
    "version": 3
   },
   "file_extension": ".py",
   "mimetype": "text/x-python",
   "name": "python",
   "nbconvert_exporter": "python",
   "pygments_lexer": "ipython3",
   "version": "3.11.5"
  }
 },
 "nbformat": 4,
 "nbformat_minor": 5
}
